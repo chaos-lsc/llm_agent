{
 "cells": [
  {
   "cell_type": "markdown",
   "id": "30a8142c",
   "metadata": {},
   "source": [
    "在项目代码文件夹添加一个`.env`文件存放API密钥，配置gitignore防止敏感信息泄露，同时方便项目隔离，使用python的dotenv模块读取，使文件中的环境变量成为进程的环境变量"
   ]
  },
  {
   "cell_type": "markdown",
   "id": "615fb065",
   "metadata": {},
   "source": [
    "OPENAI_API_KEY=\"xxxxxxxx\""
   ]
  },
  {
   "cell_type": "code",
   "execution_count": 4,
   "id": "811c8a8b",
   "metadata": {},
   "outputs": [],
   "source": [
    "import os\n",
    "from dotenv import load_dotenv\n",
    "load_dotenv()\n",
    "\n",
    "openai_api_key=os.getenv('OPENAI_API_KEY')"
   ]
  },
  {
   "cell_type": "code",
   "execution_count": 1,
   "id": "e0daa825",
   "metadata": {
    "scrolled": true,
    "vscode": {
     "languageId": "shellscript"
    }
   },
   "outputs": [
    {
     "name": "stdout",
     "output_type": "stream",
     "text": [
      "Looking in indexes: https://pypi.org/simple, https://pypi.ngc.nvidia.com\n",
      "Collecting openai\n",
      "  Downloading openai-1.51.0-py3-none-any.whl.metadata (24 kB)\n",
      "Collecting langchain\n",
      "  Downloading langchain-0.3.1-py3-none-any.whl.metadata (7.1 kB)\n",
      "Collecting langchain_openai\n",
      "  Downloading langchain_openai-0.2.1-py3-none-any.whl.metadata (2.6 kB)\n",
      "Collecting anyio<5,>=3.5.0 (from openai)\n",
      "  Downloading anyio-4.6.0-py3-none-any.whl.metadata (4.6 kB)\n",
      "Requirement already satisfied: distro<2,>=1.7.0 in /root/miniconda3/lib/python3.9/site-packages (from openai) (1.9.0)\n",
      "Collecting httpx<1,>=0.23.0 (from openai)\n",
      "  Downloading httpx-0.27.2-py3-none-any.whl.metadata (7.1 kB)\n",
      "Collecting jiter<1,>=0.4.0 (from openai)\n",
      "  Downloading jiter-0.5.0-cp39-cp39-manylinux_2_17_x86_64.manylinux2014_x86_64.whl.metadata (3.6 kB)\n",
      "Collecting pydantic<3,>=1.9.0 (from openai)\n",
      "  Downloading pydantic-2.9.2-py3-none-any.whl.metadata (149 kB)\n",
      "Collecting sniffio (from openai)\n",
      "  Downloading sniffio-1.3.1-py3-none-any.whl.metadata (3.9 kB)\n",
      "Requirement already satisfied: tqdm>4 in /root/miniconda3/lib/python3.9/site-packages (from openai) (4.66.4)\n",
      "Collecting typing-extensions<5,>=4.11 (from openai)\n",
      "  Downloading typing_extensions-4.12.2-py3-none-any.whl.metadata (3.0 kB)\n",
      "Collecting PyYAML>=5.3 (from langchain)\n",
      "  Downloading PyYAML-6.0.2-cp39-cp39-manylinux_2_17_x86_64.manylinux2014_x86_64.whl.metadata (2.1 kB)\n",
      "Collecting SQLAlchemy<3,>=1.4 (from langchain)\n",
      "  Downloading SQLAlchemy-2.0.35-cp39-cp39-manylinux_2_17_x86_64.manylinux2014_x86_64.whl.metadata (9.6 kB)\n",
      "Collecting aiohttp<4.0.0,>=3.8.3 (from langchain)\n",
      "  Downloading aiohttp-3.10.8-cp39-cp39-manylinux_2_17_x86_64.manylinux2014_x86_64.whl.metadata (7.6 kB)\n",
      "Collecting async-timeout<5.0.0,>=4.0.0 (from langchain)\n",
      "  Downloading async_timeout-4.0.3-py3-none-any.whl.metadata (4.2 kB)\n",
      "Collecting langchain-core<0.4.0,>=0.3.6 (from langchain)\n",
      "  Downloading langchain_core-0.3.7-py3-none-any.whl.metadata (6.3 kB)\n",
      "Collecting langchain-text-splitters<0.4.0,>=0.3.0 (from langchain)\n",
      "  Downloading langchain_text_splitters-0.3.0-py3-none-any.whl.metadata (2.3 kB)\n",
      "Collecting langsmith<0.2.0,>=0.1.17 (from langchain)\n",
      "  Downloading langsmith-0.1.129-py3-none-any.whl.metadata (13 kB)\n",
      "Collecting numpy<2,>=1 (from langchain)\n",
      "  Downloading numpy-1.26.4-cp39-cp39-manylinux_2_17_x86_64.manylinux2014_x86_64.whl.metadata (61 kB)\n",
      "Requirement already satisfied: requests<3,>=2 in /root/miniconda3/lib/python3.9/site-packages (from langchain) (2.32.3)\n",
      "Collecting tenacity!=8.4.0,<9.0.0,>=8.1.0 (from langchain)\n",
      "  Downloading tenacity-8.5.0-py3-none-any.whl.metadata (1.2 kB)\n",
      "Collecting tiktoken<1,>=0.7 (from langchain_openai)\n",
      "  Downloading tiktoken-0.7.0-cp39-cp39-manylinux_2_17_x86_64.manylinux2014_x86_64.whl.metadata (6.6 kB)\n",
      "Collecting aiohappyeyeballs>=2.3.0 (from aiohttp<4.0.0,>=3.8.3->langchain)\n",
      "  Downloading aiohappyeyeballs-2.4.3-py3-none-any.whl.metadata (6.1 kB)\n",
      "Collecting aiosignal>=1.1.2 (from aiohttp<4.0.0,>=3.8.3->langchain)\n",
      "  Downloading aiosignal-1.3.1-py3-none-any.whl.metadata (4.0 kB)\n",
      "Collecting attrs>=17.3.0 (from aiohttp<4.0.0,>=3.8.3->langchain)\n",
      "  Downloading attrs-24.2.0-py3-none-any.whl.metadata (11 kB)\n",
      "Collecting frozenlist>=1.1.1 (from aiohttp<4.0.0,>=3.8.3->langchain)\n",
      "  Downloading frozenlist-1.4.1-cp39-cp39-manylinux_2_5_x86_64.manylinux1_x86_64.manylinux_2_17_x86_64.manylinux2014_x86_64.whl.metadata (12 kB)\n",
      "Collecting multidict<7.0,>=4.5 (from aiohttp<4.0.0,>=3.8.3->langchain)\n",
      "  Downloading multidict-6.1.0-cp39-cp39-manylinux_2_17_x86_64.manylinux2014_x86_64.whl.metadata (5.0 kB)\n",
      "Collecting yarl<2.0,>=1.12.0 (from aiohttp<4.0.0,>=3.8.3->langchain)\n",
      "  Downloading yarl-1.13.1-cp39-cp39-manylinux_2_17_x86_64.manylinux2014_x86_64.whl.metadata (50 kB)\n",
      "Requirement already satisfied: idna>=2.8 in /root/miniconda3/lib/python3.9/site-packages (from anyio<5,>=3.5.0->openai) (3.7)\n",
      "Collecting exceptiongroup>=1.0.2 (from anyio<5,>=3.5.0->openai)\n",
      "  Downloading exceptiongroup-1.2.2-py3-none-any.whl.metadata (6.6 kB)\n",
      "Requirement already satisfied: certifi in /root/miniconda3/lib/python3.9/site-packages (from httpx<1,>=0.23.0->openai) (2024.7.4)\n",
      "Collecting httpcore==1.* (from httpx<1,>=0.23.0->openai)\n",
      "  Downloading httpcore-1.0.6-py3-none-any.whl.metadata (21 kB)\n",
      "Collecting h11<0.15,>=0.13 (from httpcore==1.*->httpx<1,>=0.23.0->openai)\n",
      "  Downloading h11-0.14.0-py3-none-any.whl.metadata (8.2 kB)\n",
      "Requirement already satisfied: jsonpatch<2.0,>=1.33 in /root/miniconda3/lib/python3.9/site-packages (from langchain-core<0.4.0,>=0.3.6->langchain) (1.33)\n",
      "Requirement already satisfied: packaging<25,>=23.2 in /root/miniconda3/lib/python3.9/site-packages (from langchain-core<0.4.0,>=0.3.6->langchain) (24.1)\n",
      "Collecting orjson<4.0.0,>=3.9.14 (from langsmith<0.2.0,>=0.1.17->langchain)\n",
      "  Downloading orjson-3.10.7-cp39-cp39-manylinux_2_17_x86_64.manylinux2014_x86_64.whl.metadata (50 kB)\n",
      "Collecting annotated-types>=0.6.0 (from pydantic<3,>=1.9.0->openai)\n",
      "  Downloading annotated_types-0.7.0-py3-none-any.whl.metadata (15 kB)\n",
      "Collecting pydantic-core==2.23.4 (from pydantic<3,>=1.9.0->openai)\n",
      "  Downloading pydantic_core-2.23.4-cp39-cp39-manylinux_2_17_x86_64.manylinux2014_x86_64.whl.metadata (6.6 kB)\n",
      "Requirement already satisfied: charset-normalizer<4,>=2 in /root/miniconda3/lib/python3.9/site-packages (from requests<3,>=2->langchain) (3.3.2)\n",
      "Requirement already satisfied: urllib3<3,>=1.21.1 in /root/miniconda3/lib/python3.9/site-packages (from requests<3,>=2->langchain) (2.2.2)\n",
      "Collecting greenlet!=0.4.17 (from SQLAlchemy<3,>=1.4->langchain)\n",
      "  Downloading greenlet-3.1.1-cp39-cp39-manylinux_2_24_x86_64.manylinux_2_28_x86_64.whl.metadata (3.8 kB)\n",
      "Collecting regex>=2022.1.18 (from tiktoken<1,>=0.7->langchain_openai)\n",
      "  Downloading regex-2024.9.11-cp39-cp39-manylinux_2_17_x86_64.manylinux2014_x86_64.whl.metadata (40 kB)\n",
      "Requirement already satisfied: jsonpointer>=1.9 in /root/miniconda3/lib/python3.9/site-packages (from jsonpatch<2.0,>=1.33->langchain-core<0.4.0,>=0.3.6->langchain) (2.1)\n",
      "Downloading openai-1.51.0-py3-none-any.whl (383 kB)\n",
      "Downloading langchain-0.3.1-py3-none-any.whl (1.0 MB)\n",
      "\u001b[2K   \u001b[90m━━━━━━━━━━━━━━━━━━━━━━━━━━━━━━━━━━━━━━━━\u001b[0m \u001b[32m1.0/1.0 MB\u001b[0m \u001b[31m12.4 MB/s\u001b[0m eta \u001b[36m0:00:00\u001b[0m\n",
      "\u001b[?25hDownloading langchain_openai-0.2.1-py3-none-any.whl (49 kB)\n",
      "Downloading aiohttp-3.10.8-cp39-cp39-manylinux_2_17_x86_64.manylinux2014_x86_64.whl (1.2 MB)\n",
      "\u001b[2K   \u001b[90m━━━━━━━━━━━━━━━━━━━━━━━━━━━━━━━━━━━━━━━━\u001b[0m \u001b[32m1.2/1.2 MB\u001b[0m \u001b[31m28.0 MB/s\u001b[0m eta \u001b[36m0:00:00\u001b[0m\n",
      "\u001b[?25hDownloading anyio-4.6.0-py3-none-any.whl (89 kB)\n",
      "Downloading async_timeout-4.0.3-py3-none-any.whl (5.7 kB)\n",
      "Downloading httpx-0.27.2-py3-none-any.whl (76 kB)\n",
      "Downloading httpcore-1.0.6-py3-none-any.whl (78 kB)\n",
      "Downloading jiter-0.5.0-cp39-cp39-manylinux_2_17_x86_64.manylinux2014_x86_64.whl (320 kB)\n",
      "Downloading langchain_core-0.3.7-py3-none-any.whl (400 kB)\n",
      "Downloading langchain_text_splitters-0.3.0-py3-none-any.whl (25 kB)\n",
      "Downloading langsmith-0.1.129-py3-none-any.whl (292 kB)\n",
      "Downloading numpy-1.26.4-cp39-cp39-manylinux_2_17_x86_64.manylinux2014_x86_64.whl (18.2 MB)\n",
      "\u001b[2K   \u001b[90m━━━━━━━━━━━━━━━━━━━━━━━━━━━━━━━━━━━━━━━━\u001b[0m \u001b[32m18.2/18.2 MB\u001b[0m \u001b[31m42.0 MB/s\u001b[0m eta \u001b[36m0:00:00\u001b[0ma \u001b[36m0:00:01\u001b[0m\n",
      "\u001b[?25hDownloading pydantic-2.9.2-py3-none-any.whl (434 kB)\n",
      "Downloading pydantic_core-2.23.4-cp39-cp39-manylinux_2_17_x86_64.manylinux2014_x86_64.whl (2.1 MB)\n",
      "\u001b[2K   \u001b[90m━━━━━━━━━━━━━━━━━━━━━━━━━━━━━━━━━━━━━━━━\u001b[0m \u001b[32m2.1/2.1 MB\u001b[0m \u001b[31m9.1 MB/s\u001b[0m eta \u001b[36m0:00:00\u001b[0m\n",
      "\u001b[?25hDownloading PyYAML-6.0.2-cp39-cp39-manylinux_2_17_x86_64.manylinux2014_x86_64.whl (737 kB)\n",
      "\u001b[2K   \u001b[90m━━━━━━━━━━━━━━━━━━━━━━━━━━━━━━━━━━━━━━━━\u001b[0m \u001b[32m737.4/737.4 kB\u001b[0m \u001b[31m4.2 MB/s\u001b[0m eta \u001b[36m0:00:00\u001b[0m\n",
      "\u001b[?25hDownloading sniffio-1.3.1-py3-none-any.whl (10 kB)\n",
      "Downloading SQLAlchemy-2.0.35-cp39-cp39-manylinux_2_17_x86_64.manylinux2014_x86_64.whl (3.1 MB)\n",
      "\u001b[2K   \u001b[90m━━━━━━━━━━━━━━━━━━━━━━━━━━━━━━━━━━━━━━━━\u001b[0m \u001b[32m3.1/3.1 MB\u001b[0m \u001b[31m11.8 MB/s\u001b[0m eta \u001b[36m0:00:00\u001b[0m \u001b[36m0:00:01\u001b[0m\n",
      "\u001b[?25hDownloading tenacity-8.5.0-py3-none-any.whl (28 kB)\n",
      "Downloading tiktoken-0.7.0-cp39-cp39-manylinux_2_17_x86_64.manylinux2014_x86_64.whl (1.1 MB)\n",
      "\u001b[2K   \u001b[90m━━━━━━━━━━━━━━━━━━━━━━━━━━━━━━━━━━━━━━━━\u001b[0m \u001b[32m1.1/1.1 MB\u001b[0m \u001b[31m29.2 MB/s\u001b[0m eta \u001b[36m0:00:00\u001b[0m\n",
      "\u001b[?25hDownloading typing_extensions-4.12.2-py3-none-any.whl (37 kB)\n",
      "Downloading aiohappyeyeballs-2.4.3-py3-none-any.whl (14 kB)\n",
      "Downloading aiosignal-1.3.1-py3-none-any.whl (7.6 kB)\n",
      "Downloading annotated_types-0.7.0-py3-none-any.whl (13 kB)\n",
      "Downloading attrs-24.2.0-py3-none-any.whl (63 kB)\n",
      "Downloading exceptiongroup-1.2.2-py3-none-any.whl (16 kB)\n",
      "Downloading frozenlist-1.4.1-cp39-cp39-manylinux_2_5_x86_64.manylinux1_x86_64.manylinux_2_17_x86_64.manylinux2014_x86_64.whl (240 kB)\n",
      "Downloading greenlet-3.1.1-cp39-cp39-manylinux_2_24_x86_64.manylinux_2_28_x86_64.whl (597 kB)\n",
      "\u001b[2K   \u001b[90m━━━━━━━━━━━━━━━━━━━━━━━━━━━━━━━━━━━━━━━━\u001b[0m \u001b[32m597.4/597.4 kB\u001b[0m \u001b[31m37.3 MB/s\u001b[0m eta \u001b[36m0:00:00\u001b[0m\n",
      "\u001b[?25hDownloading multidict-6.1.0-cp39-cp39-manylinux_2_17_x86_64.manylinux2014_x86_64.whl (124 kB)\n",
      "Downloading orjson-3.10.7-cp39-cp39-manylinux_2_17_x86_64.manylinux2014_x86_64.whl (141 kB)\n",
      "Downloading regex-2024.9.11-cp39-cp39-manylinux_2_17_x86_64.manylinux2014_x86_64.whl (781 kB)\n",
      "\u001b[2K   \u001b[90m━━━━━━━━━━━━━━━━━━━━━━━━━━━━━━━━━━━━━━━━\u001b[0m \u001b[32m782.0/782.0 kB\u001b[0m \u001b[31m38.9 MB/s\u001b[0m eta \u001b[36m0:00:00\u001b[0m\n",
      "\u001b[?25hDownloading yarl-1.13.1-cp39-cp39-manylinux_2_17_x86_64.manylinux2014_x86_64.whl (455 kB)\n",
      "Downloading h11-0.14.0-py3-none-any.whl (58 kB)\n",
      "Installing collected packages: typing-extensions, tenacity, sniffio, regex, PyYAML, orjson, numpy, jiter, h11, greenlet, frozenlist, exceptiongroup, attrs, async-timeout, annotated-types, aiohappyeyeballs, tiktoken, SQLAlchemy, pydantic-core, multidict, httpcore, anyio, aiosignal, yarl, pydantic, httpx, openai, langsmith, aiohttp, langchain-core, langchain-text-splitters, langchain_openai, langchain\n",
      "Successfully installed PyYAML-6.0.2 SQLAlchemy-2.0.35 aiohappyeyeballs-2.4.3 aiohttp-3.10.8 aiosignal-1.3.1 annotated-types-0.7.0 anyio-4.6.0 async-timeout-4.0.3 attrs-24.2.0 exceptiongroup-1.2.2 frozenlist-1.4.1 greenlet-3.1.1 h11-0.14.0 httpcore-1.0.6 httpx-0.27.2 jiter-0.5.0 langchain-0.3.1 langchain-core-0.3.7 langchain-text-splitters-0.3.0 langchain_openai-0.2.1 langsmith-0.1.129 multidict-6.1.0 numpy-1.26.4 openai-1.51.0 orjson-3.10.7 pydantic-2.9.2 pydantic-core-2.23.4 regex-2024.9.11 sniffio-1.3.1 tenacity-8.5.0 tiktoken-0.7.0 typing-extensions-4.12.2 yarl-1.13.1\n",
      "\u001b[33mWARNING: Running pip as the 'root' user can result in broken permissions and conflicting behaviour with the system package manager, possibly rendering your system unusable.It is recommended to use a virtual environment instead: https://pip.pypa.io/warnings/venv. Use the --root-user-action option if you know what you are doing and want to suppress this warning.\u001b[0m\u001b[33m\n",
      "\u001b[0m"
     ]
    }
   ],
   "source": [
    "!pip install openai langchain langchain_openai"
   ]
  },
  {
   "cell_type": "markdown",
   "id": "54dda679",
   "metadata": {},
   "source": [
    "此处使用智谱GLM-4模型，文档见：https://maas.aminer.cn/dev/api/normal-model/glm-4\n",
    "模型的每次调用是无状态的，不会记得之前说了什么，能够形成完整对话是因为还传输了过往的对话，过往的对话会存在message中（一个字典组成的列表），key为role（谁说话，取值role、system给整个对话奠定基调指定扮演角色完成任务，只能出现在第一个只能出现一次、assistant）和content（说了什么）"
   ]
  },
  {
   "cell_type": "code",
   "execution_count": 11,
   "id": "2d373337",
   "metadata": {},
   "outputs": [
    {
     "name": "stdout",
     "output_type": "stream",
     "text": [
      "当然，让我们一起来考虑一下你购买单反相机的决定。以下是一些可能让你重新思考的理由：\n",
      "\n",
      "1. **成本问题**：单反相机及其配件价格不菲。你是否有足够的预算来承担这笔开销？此外，高质量的镜头和其他配件也会增加成本。\n",
      "\n",
      "2. **使用频率**：你真的会频繁使用这台单反相机吗？如果你只是偶尔拍照，可能不需要这么专业的设备。\n",
      "\n",
      "3. **技术知识**：单反相机通常需要一定的摄影知识和技能才能充分发挥其功能。如果你没有时间或兴趣去学习这些技能，可能会觉得使用起来有难度。\n",
      "\n",
      "4. **便携性**：单反相机通常比普通相机或手机重且体积大，这可能使得携带不便，影响你拍照的意愿。\n",
      "\n",
      "5. **维护和保养**：专业相机需要定期的清洁和保养，这需要额外的时间和金钱。\n",
      "\n",
      "6. **手机相机的进步**：现代智能手机的相机功能已经非常强大，对于日常拍照来说，它们可能已经足够好。\n",
      "\n",
      "7. **现有设备**：你目前是否已经有了可以满足你摄影需求的设备？如果没有，单反是否是唯一的选择？\n",
      "\n",
      "8. **长期兴趣**：购买单反相机是一笔长期投资，你对摄影的兴趣是否足够持久？\n",
      "\n",
      "9. **替代方案**：是否有其他更经济、更实用的替代品，比如高级紧凑型相机或微单？\n",
      "\n",
      "10. **环境因素**：考虑到环保，减少消费和浪费是\n"
     ]
    }
   ],
   "source": [
    "from openai import OpenAI\n",
    "client=OpenAI(\n",
    "    base_url=\"https://open.bigmodel.cn/api/paas/v4/\"\n",
    ")\n",
    "\n",
    "completion=client.chat.completions.create(\n",
    "    model='glm-4',\n",
    "    messages=[\n",
    "        {'role':'system','content':\"你被用于抑制用户的购买欲望。当用户说想要买什么东西的时候，你需要提供理由让用户不要买\"},\n",
    "        {'role':'user','content':\"我正准备购买一台单反，你需要帮助我思考一下是否真的需要这个商品\"}\n",
    "    ],\n",
    "    # 限制输出token数量，简短/冗长的选择\n",
    "    max_tokens=300,\n",
    "    # 随机性，更低的值生成更不变的输出\n",
    "    temperature=0.7\n",
    ")\n",
    "print(completion.choices[0].message.content)"
   ]
  },
  {
   "cell_type": "markdown",
   "id": "3db1b4c8",
   "metadata": {},
   "source": [
    "这样就能调用api来使用ai了，调整参数来适应使用的场景\n",
    "完整的调用包含：\n",
    "1. prompt template，prompt是输入给模型的内容，设置template将prompt中不变的地方固定住，变的地方留空\n",
    "2. model \n",
    "3. output parser 进一步解析模型的输出，尤其是当模型的输出和我的需求格式不一致时，过程可能再次调用模型\n",
    "这个pipline可用封装好的langchain进行使用"
   ]
  },
  {
   "cell_type": "code",
   "execution_count": 10,
   "id": "93d1d6e2",
   "metadata": {},
   "outputs": [
    {
     "name": "stdout",
     "output_type": "stream",
     "text": [
      "'content='当然，我们可以一起探讨你打算购买新耳机的决定。以下是几个值得思考的要点，或许能帮你更好地审视你的购物欲望：\n",
      "\n",
      "1. **现有耳机的使用情况**：你已经有了一副耳机，它们还能用吗？如果它们还能正常使用，或许你并不需要换新。\n",
      "   \n",
      "2. **财务规划**：审视一下你的财务状况。是不是有更重要的开销需要优先考虑？也许这笔钱可以用于储蓄或投资。\n",
      "\n",
      "3. **需求分析**：你买新耳机是出于实际需求，还是仅仅因为追求潮流？如果现有耳机已经满足你的需求，那么升级可能并不必要。\n",
      "\n",
      "4. **环境保护**：电子产品的生产会对环境产生影响。如果你并非真的需要新耳机，那么避免购买可以减少电子垃圾。\n",
      "\n",
      "5. **产品耐用性**：虽然新产品很有吸引力，但考虑一下你现有耳机的使用寿命。如果它们还能用很长时间，那么或许可以等到更合适的时机再换。\n",
      "\n",
      "6. **替代方案**：是否有其他更经济的方法来解决你想要解决的问题？例如，用耳塞清洁工具来改善现有耳机的音质，或者更换耳塞来提升舒适度。\n",
      "\n",
      "7. **未来开销**：如果你预知自己在不久的将来会有大额支出，那么现在节省资金可能是明智之举。\n",
      "\n",
      "8. **冲动消费**：最后，考虑这次购买是否属于一时冲动。如果是，那么等待一段时间再决定是否购买，可能会帮助你更清楚地判断自己是否真的需要这副耳机。\n",
      "\n",
      "通过这些思考，你可以更好地...\n"
     ]
    }
   ],
   "source": [
    "from langchain_openai import ChatOpenAI\n",
    "from langchain.prompts import ChatPromptTemplate\n",
    "\n",
    "# 商品部分留空，调用的时候填充\n",
    "prompt_template=ChatPromptTemplate.from_messages(\n",
    "    [\n",
    "        ('system',\"你被用于抑制用户的购买欲望。当用户说想要买什么东西的时候，你需要提供理由让用户不要买\"),\n",
    "        ('human',\"我正准备购买一个{product}，你需要帮助我思考一下是否真的需要这个商品\")\n",
    "    ]\n",
    ")\n",
    "prompt_template.format(product='显示器')\n",
    "\n",
    "model=ChatOpenAI(\n",
    "    model='glm-4',\n",
    "    openai_api_base=\"https://open.bigmodel.cn/api/paas/v4/\",\n",
    "    max_tokens=300,\n",
    "    temperature=0.7)\n",
    "\n",
    "# 工程中想要获得稳定一致的输出，一个步骤最好只做一件事\n",
    "def output_parser(output:str):\n",
    "    parser_model=ChatOpenAI(\n",
    "    model='glm-4',\n",
    "    openai_api_base=\"https://open.bigmodel.cn/api/paas/v4/\",\n",
    "    temperature=0.6)\n",
    "    message=\"你需要将传入的文本改写，表达尽可能自然。这是你要改写的文本'{text}'\"\n",
    "    return parser_model.invoke(message.format(text=output))\n",
    "\n",
    "chain=prompt_template|model|output_parser\n",
    "answer=chain.invoke(input={'product':'耳机'})\n",
    "print(answer.content)"
   ]
  },
  {
   "cell_type": "code",
   "execution_count": null,
   "id": "5f6e90d0",
   "metadata": {},
   "outputs": [],
   "source": []
  }
 ],
 "metadata": {
  "kernelspec": {
   "display_name": "llm",
   "language": "python",
   "name": "llm"
  },
  "language_info": {
   "codemirror_mode": {
    "name": "ipython",
    "version": 3
   },
   "file_extension": ".py",
   "mimetype": "text/x-python",
   "name": "python",
   "nbconvert_exporter": "python",
   "pygments_lexer": "ipython3",
   "version": "3.8.19"
  }
 },
 "nbformat": 4,
 "nbformat_minor": 5
}
