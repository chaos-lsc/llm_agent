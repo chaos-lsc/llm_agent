{
 "cells": [
  {
   "cell_type": "markdown",
   "id": "df895fc6",
   "metadata": {},
   "source": [
    "在项目代码文件夹添加一个`.env`文件存放API密钥，配置gitignore防止敏感信息泄露，同时方便项目隔离，使用python的dotenv模块读取，使文件中的环境变量成为进程的环境变量"
   ]
  },
  {
   "cell_type": "code",
   "execution_count": null,
   "id": "6f0b5bcb",
   "metadata": {},
   "outputs": [],
   "source": [
    "OPENAI_API_KEY=\"xxxxxxxx\""
   ]
  },
  {
   "cell_type": "code",
   "execution_count": null,
   "id": "659fe04e",
   "metadata": {},
   "outputs": [],
   "source": [
    "import os\n",
    "from dotenv import load_dotenv\n",
    "load_dotenv()\n",
    "\n",
    "openai_api_key=os.getenv('OPENAI_API_KEY')"
   ]
  },
  {
   "cell_type": "code",
   "execution_count": null,
   "id": "1f765b90",
   "metadata": {
    "vscode": {
     "languageId": "shellscript"
    }
   },
   "outputs": [],
   "source": [
    "pip install openai langchain langchain_openai"
   ]
  },
  {
   "cell_type": "markdown",
   "id": "2ea5119d",
   "metadata": {},
   "source": [
    "此处使用智谱GLM-4模型，文档见：https://maas.aminer.cn/dev/api/normal-model/glm-4"
   ]
  },
  {
   "cell_type": "code",
   "execution_count": null,
   "id": "cdad0504",
   "metadata": {},
   "outputs": [],
   "source": [
    "from openai import OpenAI\n",
    "client=OpenAI(\n",
    "    base_url=\"https://open.bigmodel.cn/api/paas/v4/chat/completions\"\n",
    ")\n",
    "\n",
    "completion=client.chat.completion.create(\n",
    "    model='glm-4',\n",
    "    messages=[\n",
    "        {'role':'system','content':\"\"}\n",
    "    ]\n",
    ")"
   ]
  },
  {
   "cell_type": "code",
   "execution_count": null,
   "id": "4863b947",
   "metadata": {},
   "outputs": [],
   "source": [
    "from langchain_openai import ChatOpenAI\n",
    "from langchain.prompts import ChatPromptTemplate\n",
    "\n",
    "prompt_template=ChatPromptTemplate.from_messages(\n",
    "    [\n",
    "        ('system',\"\")\n",
    "        ('human',\"\")\n",
    "    ]\n",
    ")"
   ]
  },
  {
   "cell_type": "code",
   "execution_count": null,
   "id": "f2c4f2b2",
   "metadata": {},
   "outputs": [],
   "source": [
    "k"
   ]
  }
 ],
 "metadata": {
  "kernelspec": {
   "display_name": "llm",
   "language": "python",
   "name": "llm"
  },
  "language_info": {
   "codemirror_mode": {
    "name": "ipython",
    "version": 3
   },
   "file_extension": ".py",
   "mimetype": "text/x-python",
   "name": "python",
   "nbconvert_exporter": "python",
   "pygments_lexer": "ipython3",
   "version": "3.8.19"
  }
 },
 "nbformat": 4,
 "nbformat_minor": 5
}
